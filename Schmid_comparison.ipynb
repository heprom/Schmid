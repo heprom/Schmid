{
 "cells": [
  {
   "cell_type": "markdown",
   "metadata": {},
   "source": [
    "### Schmid factor definition\n",
    "\n",
    "For a 3D stress state $\\sigma$ (here $\\sigma$ is a tensor), and a slip system $s$ composed by the normal $n^s$ to the slip plane and the slip direction $l^s$, the Schmid law can be used to compute the shear seen by the crystal in the direction $l^s$ (the resolved shear stress). First we express the stress vector applied on face $n^s$ by $\\sigma. n^s$. Then we project this vector in direction $l^s$ with $\\tau^s = l^s.(\\sigma.n^s)=l^s_i \\sigma_{ij} n^s_j$\n",
    "\n",
    "Under a uniaxial stress state $\\sigma$ the Schmid factor can be computed by $\\dfrac{\\tau^s}{\\sigma}$:\n",
    "\n",
    "<img src=\"resolved_shear_stress.png\">\n",
    "\n",
    "Compute the Schmid factor for all slip systems in (a) the octaedral slip case and (b) the basal + prismatic case. For the moment we consider only a crystal oriented 001 (cube). The loading direction is 3 (or Z)."
   ]
  },
  {
   "cell_type": "markdown",
   "metadata": {},
   "source": [
    "#### Note - CR:\n",
    "FCC has 12 potential slip systems. Schmid factor enables to narrow down which systems among those will actually have a chance to activate (under a given loading configuration) by computing the resolved shear stress for each slip system and compare them."
   ]
  },
  {
   "cell_type": "markdown",
   "metadata": {},
   "source": [
    "### Manual calculation\n",
    "\n",
    "Here comes the manual calculations, the trick is not to forget to normalize the vectors."
   ]
  },
  {
   "cell_type": "markdown",
   "metadata": {},
   "source": [
    "#### results for cubic symmetry"
   ]
  },
  {
   "cell_type": "markdown",
   "metadata": {},
   "source": [
    "slip systems definition"
   ]
  },
  {
   "cell_type": "code",
   "execution_count": 9,
   "metadata": {},
   "outputs": [
    {
     "name": "stdout",
     "output_type": "stream",
     "text": [
      "1.7320508075688772\n",
      "[0.57735027 0.57735027 0.57735027]\n",
      "[0.         0.         0.57735027]\n",
      "[-0.70710678  0.          0.70710678]\n",
      "Schmid factor for ONE slip system on the FCC lattice:  0.408248290463863\n"
     ]
    }
   ],
   "source": [
    "#We manually compute the Schmid factor for ONE slip system (1,1,1) [-1,0,1]\n",
    "#Same process has to be repeated for all slip systems to know which one will have the highest probability to slip\n",
    "import numpy as np\n",
    "from numpy import linalg as LA\n",
    "\n",
    "Sigma0 = 1.0\n",
    "Sigma = np.array([[0.0,0.0,0.0],[0.0,0.0,0.0],[0.0,0.0,Sigma0]])\n",
    "\n",
    "\n",
    "Ns_Miller = np.array([1.0,1.0,1.0])\n",
    "print(LA.norm(Ns_Miller))\n",
    "Ns_Miller_Unit = (1/LA.norm(Ns_Miller))*Ns_Miller\n",
    "print(Ns_Miller_Unit)\n",
    "\n",
    "t_Ns = Sigma@(Ns_Miller_Unit)\n",
    "print(t_Ns)\n",
    "\n",
    "Slip_Dir = np.array([-1.0,0.0,1.0])\n",
    "Slip_Dir_Unit = (1/LA.norm(Slip_Dir))*Slip_Dir\n",
    "print(Slip_Dir_Unit)\n",
    "\n",
    "Tau = Slip_Dir_Unit@t_Ns\n",
    "\n",
    "print(\"Schmid factor for ONE slip system on the FCC lattice: \", Tau)"
   ]
  },
  {
   "cell_type": "markdown",
   "metadata": {},
   "source": [
    "#### results for hexagonal symmetry"
   ]
  },
  {
   "cell_type": "markdown",
   "metadata": {},
   "source": [
    "slip system definition"
   ]
  },
  {
   "cell_type": "code",
   "execution_count": null,
   "metadata": {},
   "outputs": [],
   "source": []
  },
  {
   "cell_type": "markdown",
   "metadata": {},
   "source": [
    "### Calculation using Pymicro"
   ]
  },
  {
   "cell_type": "markdown",
   "metadata": {},
   "source": [
    "#### results for cubic symmetry"
   ]
  },
  {
   "cell_type": "code",
   "execution_count": 10,
   "metadata": {},
   "outputs": [
    {
     "data": {
      "text/plain": [
       "0.408248290463863"
      ]
     },
     "execution_count": 10,
     "metadata": {},
     "output_type": "execute_result"
    }
   ],
   "source": [
    "from pymicro.crystal.lattice import Lattice, HklPlane, HklDirection, SlipSystem\n",
    "from pymicro.crystal.microstructure import Orientation\n",
    "\n",
    "cubic = Lattice.cubic(1.0)  # here the lattice parameter is not important\n",
    "s1 = SlipSystem.from_indices((1, 1, 1), (-1, 0, 1), lattice=cubic) #CR: Integers are correct for Miller indices\n",
    "o_cube = Orientation.cube()\n",
    "o_cube.schmid_factor(s1, load_direction=[0., 0., 1])"
   ]
  },
  {
   "cell_type": "markdown",
   "metadata": {},
   "source": [
    "#### results for hexagonal symmetry"
   ]
  },
  {
   "cell_type": "markdown",
   "metadata": {},
   "source": [
    "<img src=\"Hexagonal_Lattice_Plans_Primordiaux.png\">"
   ]
  },
  {
   "cell_type": "code",
   "execution_count": 16,
   "metadata": {},
   "outputs": [
    {
     "name": "stdout",
     "output_type": "stream",
     "text": [
      "Under load_direction=[0., 0., 1.] basal plane has no shear at all: 0.0\n"
     ]
    }
   ],
   "source": [
    "from pymicro.crystal.lattice import Lattice, HklPlane, HklDirection, SlipSystem\n",
    "from pymicro.crystal.microstructure import Orientation\n",
    "\n",
    "#CR: We consider first a basal slip system: (0,0,1,1) <1,1,-2,0> \n",
    "HEXAGON = Lattice.hexagonal(1.,1.)  #Here the lattice parameter is not important\n",
    "s1 = SlipSystem.from_indices((0, 0, 1), (1, 1, 0), lattice=HEXAGON) #CR: We don't write the 3rd Miller index\n",
    "o_cube = Orientation.cube() #CR: This says that we are in \"cube\" orientation mode of the crystal, i.e. not rotated\n",
    "print (\"Under load_direction=[0., 0., 1.] basal plane has no shear at all:\", o_cube.schmid_factor(s1, load_direction=[0., 0., 1.]))"
   ]
  },
  {
   "cell_type": "code",
   "execution_count": 18,
   "metadata": {},
   "outputs": [
    {
     "name": "stdout",
     "output_type": "stream",
     "text": [
      "Under load_direction=[0., 0., 1.] pyramidal system experiences shear: 0.6708203932499368\n"
     ]
    }
   ],
   "source": [
    "from pymicro.crystal.lattice import Lattice, HklPlane, HklDirection, SlipSystem\n",
    "from pymicro.crystal.microstructure import Orientation\n",
    "\n",
    "#CR: We consider a pyramidal Pi1 slip system: (1,1,-2,2) <1,1,-2,3> \n",
    "HEXAGON = Lattice.hexagonal(1.,1.)  #Here the lattice parameter is not important\n",
    "s1 = SlipSystem.from_indices((1, 1, 2), (1, 1, 3), lattice=HEXAGON) #CR: We don't write the 3rd Miller index\n",
    "o_cube = Orientation.cube() #CR: This says that we are in \"cube\" orientation mode of the crystal, i.e. not rotated\n",
    "print (\"Under load_direction=[0., 0., 1.] pyramidal system experiences shear:\", o_cube.schmid_factor(s1, load_direction=[0., 0., 1.]))"
   ]
  },
  {
   "cell_type": "markdown",
   "metadata": {},
   "source": [
    "### Calculation using Z-set\n",
    "\n",
    "Run computation using z-set with the different orientations and slip systems definitions. report results here.\n",
    "```\n",
    "Zrun rve3d.inp\n",
    "```\n",
    "\n",
    "the stress applied is $\\sigma=100$ MPa."
   ]
  },
  {
   "cell_type": "markdown",
   "metadata": {},
   "source": [
    "#### results for cubic symmetry"
   ]
  },
  {
   "cell_type": "markdown",
   "metadata": {},
   "source": [
    "cube orientation (euler 0., 0., 0.)\n",
    "\n",
    "| $\\tau_1$ | $\\tau_2$ | $\\tau_3$ | $\\tau_4$ | $\\tau_5$ | $\\tau_6$ | $\\tau_7$ | $\\tau_8$ | $\\tau_9$ | $\\tau_{10}$ | $\\tau_{11}$ | $\\tau_{12}$ |\n",
    "| --- | --- | --- | --- | --- | --- | --- | --- | --- | --- | --- | --- |\n",
    "| 40.82 | 40.82 | 0.0 | 40.82 | 40.82 | 0.0 | 40.82 | 0.0 | 40.82 | 0.0 | -40.82 | -40.82 |\n",
    "\n"
   ]
  },
  {
   "cell_type": "code",
   "execution_count": null,
   "metadata": {},
   "outputs": [],
   "source": []
  },
  {
   "cell_type": "markdown",
   "metadata": {},
   "source": [
    "#### results for hexagonal symmetry"
   ]
  },
  {
   "cell_type": "code",
   "execution_count": null,
   "metadata": {},
   "outputs": [],
   "source": []
  }
 ],
 "metadata": {
  "kernelspec": {
   "display_name": "Python 3",
   "language": "python",
   "name": "python3"
  },
  "language_info": {
   "codemirror_mode": {
    "name": "ipython",
    "version": 3
   },
   "file_extension": ".py",
   "mimetype": "text/x-python",
   "name": "python",
   "nbconvert_exporter": "python",
   "pygments_lexer": "ipython3",
   "version": "3.7.4"
  }
 },
 "nbformat": 4,
 "nbformat_minor": 2
}
